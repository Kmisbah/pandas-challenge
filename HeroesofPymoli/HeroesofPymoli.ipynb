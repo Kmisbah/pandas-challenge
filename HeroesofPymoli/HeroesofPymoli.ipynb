{
 "cells": [
  {
   "cell_type": "code",
   "execution_count": 38,
   "id": "d6b11d96-caaa-46f4-a304-1f5c2d0879a3",
   "metadata": {},
   "outputs": [],
   "source": [
    "# Dependencies and Setup\n",
    "import pandas as pd\n",
    "import numpy as np\n",
    "\n",
    "# File to Load (Remember to Change These)\n",
    "file_to_load = \"Resources/purchase_data.csv\"\n",
    "\n",
    "# Read Purchasing File and store into Pandas data frame\n",
    "purchase_data = pd.read_csv(file_to_load)"
   ]
  },
  {
   "cell_type": "code",
   "execution_count": 39,
   "id": "871d2dd5-c9f2-400e-9b57-601b522b3b1d",
   "metadata": {},
   "outputs": [
    {
     "data": {
      "text/html": [
       "<div>\n",
       "<style scoped>\n",
       "    .dataframe tbody tr th:only-of-type {\n",
       "        vertical-align: middle;\n",
       "    }\n",
       "\n",
       "    .dataframe tbody tr th {\n",
       "        vertical-align: top;\n",
       "    }\n",
       "\n",
       "    .dataframe thead th {\n",
       "        text-align: right;\n",
       "    }\n",
       "</style>\n",
       "<table border=\"1\" class=\"dataframe\">\n",
       "  <thead>\n",
       "    <tr style=\"text-align: right;\">\n",
       "      <th></th>\n",
       "      <th>Total Players</th>\n",
       "    </tr>\n",
       "  </thead>\n",
       "  <tbody>\n",
       "    <tr>\n",
       "      <th>0</th>\n",
       "      <td>780</td>\n",
       "    </tr>\n",
       "  </tbody>\n",
       "</table>\n",
       "</div>"
      ],
      "text/plain": [
       "   Total Players\n",
       "0            780"
      ]
     },
     "execution_count": 39,
     "metadata": {},
     "output_type": "execute_result"
    }
   ],
   "source": [
    "#Total number of players\n",
    "player_count = purchase_data['SN'].count()\n",
    "player_count\n",
    "pd.DataFrame([player_count], columns = [\"Total Players\"])"
   ]
  },
  {
   "cell_type": "code",
   "execution_count": 40,
   "id": "60b34acc-4795-4bb0-bf8d-0c76316cff5f",
   "metadata": {},
   "outputs": [
    {
     "data": {
      "text/html": [
       "<div>\n",
       "<style scoped>\n",
       "    .dataframe tbody tr th:only-of-type {\n",
       "        vertical-align: middle;\n",
       "    }\n",
       "\n",
       "    .dataframe tbody tr th {\n",
       "        vertical-align: top;\n",
       "    }\n",
       "\n",
       "    .dataframe thead th {\n",
       "        text-align: right;\n",
       "    }\n",
       "</style>\n",
       "<table border=\"1\" class=\"dataframe\">\n",
       "  <thead>\n",
       "    <tr style=\"text-align: right;\">\n",
       "      <th></th>\n",
       "      <th>Number of Unique Items</th>\n",
       "    </tr>\n",
       "  </thead>\n",
       "  <tbody>\n",
       "    <tr>\n",
       "      <th>0</th>\n",
       "      <td>179</td>\n",
       "    </tr>\n",
       "  </tbody>\n",
       "</table>\n",
       "</div>"
      ],
      "text/plain": [
       "   Number of Unique Items\n",
       "0                     179"
      ]
     },
     "execution_count": 40,
     "metadata": {},
     "output_type": "execute_result"
    }
   ],
   "source": [
    "#Number of Unique Items\n",
    "unique_items = len(purchase_data['Item Name'].unique())\n",
    "unique_items\n",
    "pd.DataFrame([unique_items], columns = [\"Number of Unique Items\"])"
   ]
  },
  {
   "cell_type": "code",
   "execution_count": 41,
   "id": "e3148882-b10a-426f-b976-6c46ef2db8b7",
   "metadata": {},
   "outputs": [
    {
     "data": {
      "text/html": [
       "<div>\n",
       "<style scoped>\n",
       "    .dataframe tbody tr th:only-of-type {\n",
       "        vertical-align: middle;\n",
       "    }\n",
       "\n",
       "    .dataframe tbody tr th {\n",
       "        vertical-align: top;\n",
       "    }\n",
       "\n",
       "    .dataframe thead th {\n",
       "        text-align: right;\n",
       "    }\n",
       "</style>\n",
       "<table border=\"1\" class=\"dataframe\">\n",
       "  <thead>\n",
       "    <tr style=\"text-align: right;\">\n",
       "      <th></th>\n",
       "      <th>Average Purchase Price</th>\n",
       "    </tr>\n",
       "  </thead>\n",
       "  <tbody>\n",
       "    <tr>\n",
       "      <th>0</th>\n",
       "      <td>$3.05</td>\n",
       "    </tr>\n",
       "  </tbody>\n",
       "</table>\n",
       "</div>"
      ],
      "text/plain": [
       "  Average Purchase Price\n",
       "0                  $3.05"
      ]
     },
     "execution_count": 41,
     "metadata": {},
     "output_type": "execute_result"
    }
   ],
   "source": [
    "#Average Purchase Price\n",
    "avg_price = purchase_data['Price'].mean()\n",
    "avg_price =\"${:,.2f}\".format(3.050987179487176)\n",
    "avg_price\n",
    "pd.DataFrame([avg_price], columns = [\"Average Purchase Price\"])"
   ]
  },
  {
   "cell_type": "code",
   "execution_count": 42,
   "id": "19a41593-b5b9-4f1e-9462-dbcd7d94ea87",
   "metadata": {},
   "outputs": [
    {
     "data": {
      "text/html": [
       "<div>\n",
       "<style scoped>\n",
       "    .dataframe tbody tr th:only-of-type {\n",
       "        vertical-align: middle;\n",
       "    }\n",
       "\n",
       "    .dataframe tbody tr th {\n",
       "        vertical-align: top;\n",
       "    }\n",
       "\n",
       "    .dataframe thead th {\n",
       "        text-align: right;\n",
       "    }\n",
       "</style>\n",
       "<table border=\"1\" class=\"dataframe\">\n",
       "  <thead>\n",
       "    <tr style=\"text-align: right;\">\n",
       "      <th></th>\n",
       "      <th>Total Number of Purchases</th>\n",
       "    </tr>\n",
       "  </thead>\n",
       "  <tbody>\n",
       "    <tr>\n",
       "      <th>0</th>\n",
       "      <td>780</td>\n",
       "    </tr>\n",
       "  </tbody>\n",
       "</table>\n",
       "</div>"
      ],
      "text/plain": [
       "   Total Number of Purchases\n",
       "0                        780"
      ]
     },
     "execution_count": 42,
     "metadata": {},
     "output_type": "execute_result"
    }
   ],
   "source": [
    "#Total # of Purchases\n",
    "total_purchases = purchase_data['Purchase ID'].count()\n",
    "total_purchases\n",
    "pd.DataFrame([total_purchases], columns = [\"Total Number of Purchases\"])"
   ]
  },
  {
   "cell_type": "code",
   "execution_count": 43,
   "id": "45a8cbdc-3bc4-480e-9069-4d8fc87d4054",
   "metadata": {},
   "outputs": [
    {
     "data": {
      "text/html": [
       "<div>\n",
       "<style scoped>\n",
       "    .dataframe tbody tr th:only-of-type {\n",
       "        vertical-align: middle;\n",
       "    }\n",
       "\n",
       "    .dataframe tbody tr th {\n",
       "        vertical-align: top;\n",
       "    }\n",
       "\n",
       "    .dataframe thead th {\n",
       "        text-align: right;\n",
       "    }\n",
       "</style>\n",
       "<table border=\"1\" class=\"dataframe\">\n",
       "  <thead>\n",
       "    <tr style=\"text-align: right;\">\n",
       "      <th></th>\n",
       "      <th>Total Revenue</th>\n",
       "    </tr>\n",
       "  </thead>\n",
       "  <tbody>\n",
       "    <tr>\n",
       "      <th>0</th>\n",
       "      <td>$2,379.77</td>\n",
       "    </tr>\n",
       "  </tbody>\n",
       "</table>\n",
       "</div>"
      ],
      "text/plain": [
       "  Total Revenue\n",
       "0     $2,379.77"
      ]
     },
     "execution_count": 43,
     "metadata": {},
     "output_type": "execute_result"
    }
   ],
   "source": [
    "#Total Revenue\n",
    "total_revenue = purchase_data['Price'].sum()\n",
    "total_revenue =\"${:,.2f}\".format(2379.77)\n",
    "total_revenue\n",
    "pd.DataFrame([total_revenue], columns = [\"Total Revenue\"])"
   ]
  },
  {
   "cell_type": "code",
   "execution_count": 55,
   "id": "beab1364-2e61-4d97-8ab1-0d2e70ebb66a",
   "metadata": {},
   "outputs": [
    {
     "data": {
      "text/html": [
       "<div>\n",
       "<style scoped>\n",
       "    .dataframe tbody tr th:only-of-type {\n",
       "        vertical-align: middle;\n",
       "    }\n",
       "\n",
       "    .dataframe tbody tr th {\n",
       "        vertical-align: top;\n",
       "    }\n",
       "\n",
       "    .dataframe thead th {\n",
       "        text-align: right;\n",
       "    }\n",
       "</style>\n",
       "<table border=\"1\" class=\"dataframe\">\n",
       "  <thead>\n",
       "    <tr style=\"text-align: right;\">\n",
       "      <th></th>\n",
       "      <th>Total Players</th>\n",
       "      <th>Number of Unique Items</th>\n",
       "      <th>Average Purchase Price</th>\n",
       "      <th>Total Number of Purchases</th>\n",
       "      <th>Total Revenue</th>\n",
       "    </tr>\n",
       "  </thead>\n",
       "  <tbody>\n",
       "    <tr>\n",
       "      <th>0</th>\n",
       "      <td>780</td>\n",
       "      <td>179</td>\n",
       "      <td>$3.05</td>\n",
       "      <td>780</td>\n",
       "      <td>$2,379.77</td>\n",
       "    </tr>\n",
       "  </tbody>\n",
       "</table>\n",
       "</div>"
      ],
      "text/plain": [
       "   Total Players  Number of Unique Items Average Purchase Price  \\\n",
       "0            780                     179                  $3.05   \n",
       "\n",
       "   Total Number of Purchases Total Revenue  \n",
       "0                        780     $2,379.77  "
      ]
     },
     "execution_count": 55,
     "metadata": {},
     "output_type": "execute_result"
    }
   ],
   "source": [
    "#Purchase Analysis Summary Table\n",
    "#pd.concat([player_count,unique_items,avg_price,total_purchases,total_revenue])\n",
    "#.rename(columns={'Total Players':'Number of Unique Items',:'Average Purchase Price':'Total Number of Purchases':'Total Revenue'})], ignore_index=True)\n",
    "summary_df = pd.DataFrame({'Total Players': [player_count],'Number of Unique Items':[unique_items], 'Average Purchase Price':[avg_price], 'Total Number of Purchases':[total_purchases],'Total Revenue':[total_revenue] })\n",
    "summary_df"
   ]
  },
  {
   "cell_type": "code",
   "execution_count": 63,
   "id": "a04f34ca-5165-43c4-8306-df6c7bd0d1dd",
   "metadata": {},
   "outputs": [
    {
     "data": {
      "text/plain": [
       "Male                     652\n",
       "Female                   113\n",
       "Other / Non-Disclosed     15\n",
       "Name: Gender, dtype: int64"
      ]
     },
     "execution_count": 63,
     "metadata": {},
     "output_type": "execute_result"
    }
   ],
   "source": [
    "#Percentage and Count of Players\n",
    "#Count\n",
    "gender_count = purchase_data['Gender'].value_counts()\n",
    "gender_count\n",
    "\n",
    "\n"
   ]
  },
  {
   "cell_type": "code",
   "execution_count": 74,
   "id": "235fe2c4-0c2a-42c7-a9d0-b6c866c2c9c4",
   "metadata": {},
   "outputs": [
    {
     "data": {
      "text/plain": [
       "652"
      ]
     },
     "execution_count": 74,
     "metadata": {},
     "output_type": "execute_result"
    }
   ],
   "source": [
    "#male count\n",
    "male_count = purchase_data['Gender'].value_counts()['Male']\n",
    "male_count"
   ]
  },
  {
   "cell_type": "code",
   "execution_count": 78,
   "id": "32dc0371-e5dc-4e1f-b24f-878f11ce146d",
   "metadata": {},
   "outputs": [
    {
     "data": {
      "text/plain": [
       "83.58974358974359"
      ]
     },
     "execution_count": 78,
     "metadata": {},
     "output_type": "execute_result"
    }
   ],
   "source": [
    "#male percent\n",
    "male_percent = male_count/player_count*100\n",
    "male_percent"
   ]
  },
  {
   "cell_type": "code",
   "execution_count": 79,
   "id": "bd7d2eaa-ebc9-43f8-8f05-7de7f8506f85",
   "metadata": {},
   "outputs": [
    {
     "data": {
      "text/plain": [
       "113"
      ]
     },
     "execution_count": 79,
     "metadata": {},
     "output_type": "execute_result"
    }
   ],
   "source": [
    "#female count\n",
    "female_count = purchase_data['Gender'].value_counts()['Female']\n",
    "female_count"
   ]
  },
  {
   "cell_type": "code",
   "execution_count": 80,
   "id": "ffedd9c6-f3ac-41c1-a812-19c486f45a19",
   "metadata": {},
   "outputs": [
    {
     "data": {
      "text/plain": [
       "14.487179487179489"
      ]
     },
     "execution_count": 80,
     "metadata": {},
     "output_type": "execute_result"
    }
   ],
   "source": [
    "#female percent\n",
    "female_percent = female_count/player_count*100\n",
    "female_percent"
   ]
  },
  {
   "cell_type": "code",
   "execution_count": 82,
   "id": "940fd17c-54da-4d11-abe4-40d6e9645771",
   "metadata": {},
   "outputs": [
    {
     "data": {
      "text/plain": [
       "15"
      ]
     },
     "execution_count": 82,
     "metadata": {},
     "output_type": "execute_result"
    }
   ],
   "source": [
    "#other count\n",
    "other_count = purchase_data['Gender'].value_counts()['Other / Non-Disclosed']\n",
    "other_count"
   ]
  },
  {
   "cell_type": "code",
   "execution_count": 83,
   "id": "b5f6ddd9-41b3-4433-a4e0-58b5038d131b",
   "metadata": {},
   "outputs": [
    {
     "data": {
      "text/plain": [
       "1.9230769230769231"
      ]
     },
     "execution_count": 83,
     "metadata": {},
     "output_type": "execute_result"
    }
   ],
   "source": [
    "#other percent\n",
    "other_percent = other_count/player_count*100\n",
    "other_percent"
   ]
  },
  {
   "cell_type": "code",
   "execution_count": 85,
   "id": "d6616514-b2a3-4865-ae29-81a54754b02b",
   "metadata": {},
   "outputs": [
    {
     "data": {
      "text/html": [
       "<style type=\"text/css\">\n",
       "</style>\n",
       "<table id=\"T_1d6ad_\">\n",
       "  <thead>\n",
       "    <tr>\n",
       "      <th class=\"blank level0\" >&nbsp;</th>\n",
       "      <th class=\"col_heading level0 col0\" >Total Count</th>\n",
       "      <th class=\"col_heading level0 col1\" >Total Percentage</th>\n",
       "    </tr>\n",
       "    <tr>\n",
       "      <th class=\"index_name level0\" >Gender</th>\n",
       "      <th class=\"blank col0\" >&nbsp;</th>\n",
       "      <th class=\"blank col1\" >&nbsp;</th>\n",
       "    </tr>\n",
       "  </thead>\n",
       "  <tbody>\n",
       "    <tr>\n",
       "      <th id=\"T_1d6ad_level0_row0\" class=\"row_heading level0 row0\" >Male</th>\n",
       "      <td id=\"T_1d6ad_row0_col0\" class=\"data row0 col0\" >652</td>\n",
       "      <td id=\"T_1d6ad_row0_col1\" class=\"data row0 col1\" >83.59%</td>\n",
       "    </tr>\n",
       "    <tr>\n",
       "      <th id=\"T_1d6ad_level0_row1\" class=\"row_heading level0 row1\" >Female</th>\n",
       "      <td id=\"T_1d6ad_row1_col0\" class=\"data row1 col0\" >113</td>\n",
       "      <td id=\"T_1d6ad_row1_col1\" class=\"data row1 col1\" >14.49%</td>\n",
       "    </tr>\n",
       "    <tr>\n",
       "      <th id=\"T_1d6ad_level0_row2\" class=\"row_heading level0 row2\" >Other / Non-Disclosed</th>\n",
       "      <td id=\"T_1d6ad_row2_col0\" class=\"data row2 col0\" >15</td>\n",
       "      <td id=\"T_1d6ad_row2_col1\" class=\"data row2 col1\" >1.92%</td>\n",
       "    </tr>\n",
       "  </tbody>\n",
       "</table>\n"
      ],
      "text/plain": [
       "<pandas.io.formats.style.Styler at 0x220f47148b0>"
      ]
     },
     "execution_count": 85,
     "metadata": {},
     "output_type": "execute_result"
    }
   ],
   "source": [
    "#Gender Summary\n",
    "gender_summary = pd.DataFrame({\"Gender\": [\"Male\", \"Female\", \"Other / Non-Disclosed\"], \"Total Count\": [male_count, female_count, other_count], \"Total Percentage\": [male_percent, female_percent, other_percent]}, columns = [\"Gender\", \"Total Count\", \"Total Percentage\"])\n",
    "gender_summary = gender_summary.set_index(\"Gender\")\n",
    "gender_summary.style.format({\"Total Percentage\": \"{:.2f}%\"})"
   ]
  },
  {
   "cell_type": "code",
   "execution_count": 103,
   "id": "cce450ef-921c-4c50-9a4d-71d9f6af68d2",
   "metadata": {},
   "outputs": [
    {
     "data": {
      "text/html": [
       "<style type=\"text/css\">\n",
       "</style>\n",
       "<table id=\"T_96d0d_\">\n",
       "  <thead>\n",
       "    <tr>\n",
       "      <th class=\"blank level0\" >&nbsp;</th>\n",
       "      <th class=\"col_heading level0 col0\" >Purchase Count</th>\n",
       "      <th class=\"col_heading level0 col1\" >Average Purchase Price</th>\n",
       "      <th class=\"col_heading level0 col2\" >Total Purchase value</th>\n",
       "      <th class=\"col_heading level0 col3\" >Normalised totals</th>\n",
       "    </tr>\n",
       "    <tr>\n",
       "      <th class=\"index_name level0\" >Gender</th>\n",
       "      <th class=\"blank col0\" >&nbsp;</th>\n",
       "      <th class=\"blank col1\" >&nbsp;</th>\n",
       "      <th class=\"blank col2\" >&nbsp;</th>\n",
       "      <th class=\"blank col3\" >&nbsp;</th>\n",
       "    </tr>\n",
       "  </thead>\n",
       "  <tbody>\n",
       "    <tr>\n",
       "      <th id=\"T_96d0d_level0_row0\" class=\"row_heading level0 row0\" >Female</th>\n",
       "      <td id=\"T_96d0d_row0_col0\" class=\"data row0 col0\" >113</td>\n",
       "      <td id=\"T_96d0d_row0_col1\" class=\"data row0 col1\" >$3.20</td>\n",
       "      <td id=\"T_96d0d_row0_col2\" class=\"data row0 col2\" >361.940000</td>\n",
       "      <td id=\"T_96d0d_row0_col3\" class=\"data row0 col3\" >3.203009</td>\n",
       "    </tr>\n",
       "    <tr>\n",
       "      <th id=\"T_96d0d_level0_row1\" class=\"row_heading level0 row1\" >Male</th>\n",
       "      <td id=\"T_96d0d_row1_col0\" class=\"data row1 col0\" >652</td>\n",
       "      <td id=\"T_96d0d_row1_col1\" class=\"data row1 col1\" >$3.02</td>\n",
       "      <td id=\"T_96d0d_row1_col2\" class=\"data row1 col2\" >1967.640000</td>\n",
       "      <td id=\"T_96d0d_row1_col3\" class=\"data row1 col3\" >3.017853</td>\n",
       "    </tr>\n",
       "    <tr>\n",
       "      <th id=\"T_96d0d_level0_row2\" class=\"row_heading level0 row2\" >Other / Non-Disclosed</th>\n",
       "      <td id=\"T_96d0d_row2_col0\" class=\"data row2 col0\" >15</td>\n",
       "      <td id=\"T_96d0d_row2_col1\" class=\"data row2 col1\" >$3.35</td>\n",
       "      <td id=\"T_96d0d_row2_col2\" class=\"data row2 col2\" >50.190000</td>\n",
       "      <td id=\"T_96d0d_row2_col3\" class=\"data row2 col3\" >3.346000</td>\n",
       "    </tr>\n",
       "  </tbody>\n",
       "</table>\n"
      ],
      "text/plain": [
       "<pandas.io.formats.style.Styler at 0x220f4714100>"
      ]
     },
     "execution_count": 103,
     "metadata": {},
     "output_type": "execute_result"
    }
   ],
   "source": [
    "#Gender Purchase Analysis\n",
    "#Purchase Count\n",
    "gender_groups = purchase_data.groupby(['Gender'])\n",
    "purchase_count = gender_groups.count()[\"Price\"]\n",
    "\n",
    "#Average Purchase Price\n",
    "avg_pur_count = gender_groups.mean()[\"Price\"]\n",
    "\n",
    "#Total Purchase Value\n",
    "total_pur_value = gender_groups.sum()[\"Price\"]\n",
    "\n",
    "#Normalized Totals\n",
    "norm_total = total_pur_value/purchase_count\n",
    "\n",
    "pur_analysis = pd.DataFrame({\n",
    "    \n",
    "    \"Purchase Count\": purchase_count,\n",
    "    'Average Purchase Price': avg_pur_count,\n",
    "    'Total Purchase value': total_pur_value,\n",
    "    'Normalised totals': norm_total\n",
    "})\n",
    "\n",
    "pur_analysis\n",
    "pur_analysis.style.format({\"Average Purchase Price\": \"${:,.2f}\", \"Total Purchase Value\":\"${:,.2f}\", \"Normalised Totals\":\"${:,.2f}\"})"
   ]
  },
  {
   "cell_type": "code",
   "execution_count": 106,
   "id": "b93cd66a-da97-4baf-b477-1f52bbb14448",
   "metadata": {},
   "outputs": [
    {
     "data": {
      "text/html": [
       "<style type=\"text/css\">\n",
       "</style>\n",
       "<table id=\"T_26757_\">\n",
       "  <thead>\n",
       "    <tr>\n",
       "      <th class=\"blank level0\" >&nbsp;</th>\n",
       "      <th class=\"col_heading level0 col0\" >Purchase count</th>\n",
       "      <th class=\"col_heading level0 col1\" >Average Purchase Price</th>\n",
       "      <th class=\"col_heading level0 col2\" >Total Purchase value</th>\n",
       "      <th class=\"col_heading level0 col3\" >Normalised Totals</th>\n",
       "    </tr>\n",
       "    <tr>\n",
       "      <th class=\"index_name level0\" >Age Range</th>\n",
       "      <th class=\"blank col0\" >&nbsp;</th>\n",
       "      <th class=\"blank col1\" >&nbsp;</th>\n",
       "      <th class=\"blank col2\" >&nbsp;</th>\n",
       "      <th class=\"blank col3\" >&nbsp;</th>\n",
       "    </tr>\n",
       "  </thead>\n",
       "  <tbody>\n",
       "    <tr>\n",
       "      <th id=\"T_26757_level0_row0\" class=\"row_heading level0 row0\" ><10</th>\n",
       "      <td id=\"T_26757_row0_col0\" class=\"data row0 col0\" >39</td>\n",
       "      <td id=\"T_26757_row0_col1\" class=\"data row0 col1\" >$3.28</td>\n",
       "      <td id=\"T_26757_row0_col2\" class=\"data row0 col2\" >127.750000</td>\n",
       "      <td id=\"T_26757_row0_col3\" class=\"data row0 col3\" >$3.28</td>\n",
       "    </tr>\n",
       "    <tr>\n",
       "      <th id=\"T_26757_level0_row1\" class=\"row_heading level0 row1\" >10-14</th>\n",
       "      <td id=\"T_26757_row1_col0\" class=\"data row1 col0\" >77</td>\n",
       "      <td id=\"T_26757_row1_col1\" class=\"data row1 col1\" >$2.97</td>\n",
       "      <td id=\"T_26757_row1_col2\" class=\"data row1 col2\" >228.370000</td>\n",
       "      <td id=\"T_26757_row1_col3\" class=\"data row1 col3\" >$2.97</td>\n",
       "    </tr>\n",
       "    <tr>\n",
       "      <th id=\"T_26757_level0_row2\" class=\"row_heading level0 row2\" >15-19</th>\n",
       "      <td id=\"T_26757_row2_col0\" class=\"data row2 col0\" >232</td>\n",
       "      <td id=\"T_26757_row2_col1\" class=\"data row2 col1\" >$3.07</td>\n",
       "      <td id=\"T_26757_row2_col2\" class=\"data row2 col2\" >711.740000</td>\n",
       "      <td id=\"T_26757_row2_col3\" class=\"data row2 col3\" >$3.07</td>\n",
       "    </tr>\n",
       "    <tr>\n",
       "      <th id=\"T_26757_level0_row3\" class=\"row_heading level0 row3\" >20-24</th>\n",
       "      <td id=\"T_26757_row3_col0\" class=\"data row3 col0\" >277</td>\n",
       "      <td id=\"T_26757_row3_col1\" class=\"data row3 col1\" >$3.04</td>\n",
       "      <td id=\"T_26757_row3_col2\" class=\"data row3 col2\" >841.090000</td>\n",
       "      <td id=\"T_26757_row3_col3\" class=\"data row3 col3\" >$3.04</td>\n",
       "    </tr>\n",
       "    <tr>\n",
       "      <th id=\"T_26757_level0_row4\" class=\"row_heading level0 row4\" >25-29</th>\n",
       "      <td id=\"T_26757_row4_col0\" class=\"data row4 col0\" >63</td>\n",
       "      <td id=\"T_26757_row4_col1\" class=\"data row4 col1\" >$2.88</td>\n",
       "      <td id=\"T_26757_row4_col2\" class=\"data row4 col2\" >181.230000</td>\n",
       "      <td id=\"T_26757_row4_col3\" class=\"data row4 col3\" >$2.88</td>\n",
       "    </tr>\n",
       "    <tr>\n",
       "      <th id=\"T_26757_level0_row5\" class=\"row_heading level0 row5\" >30-34</th>\n",
       "      <td id=\"T_26757_row5_col0\" class=\"data row5 col0\" >52</td>\n",
       "      <td id=\"T_26757_row5_col1\" class=\"data row5 col1\" >$2.99</td>\n",
       "      <td id=\"T_26757_row5_col2\" class=\"data row5 col2\" >155.710000</td>\n",
       "      <td id=\"T_26757_row5_col3\" class=\"data row5 col3\" >$2.99</td>\n",
       "    </tr>\n",
       "    <tr>\n",
       "      <th id=\"T_26757_level0_row6\" class=\"row_heading level0 row6\" >35-39</th>\n",
       "      <td id=\"T_26757_row6_col0\" class=\"data row6 col0\" >33</td>\n",
       "      <td id=\"T_26757_row6_col1\" class=\"data row6 col1\" >$3.40</td>\n",
       "      <td id=\"T_26757_row6_col2\" class=\"data row6 col2\" >112.350000</td>\n",
       "      <td id=\"T_26757_row6_col3\" class=\"data row6 col3\" >$3.40</td>\n",
       "    </tr>\n",
       "    <tr>\n",
       "      <th id=\"T_26757_level0_row7\" class=\"row_heading level0 row7\" >40+</th>\n",
       "      <td id=\"T_26757_row7_col0\" class=\"data row7 col0\" >7</td>\n",
       "      <td id=\"T_26757_row7_col1\" class=\"data row7 col1\" >$3.08</td>\n",
       "      <td id=\"T_26757_row7_col2\" class=\"data row7 col2\" >21.530000</td>\n",
       "      <td id=\"T_26757_row7_col3\" class=\"data row7 col3\" >$3.08</td>\n",
       "    </tr>\n",
       "  </tbody>\n",
       "</table>\n"
      ],
      "text/plain": [
       "<pandas.io.formats.style.Styler at 0x220f54bfcd0>"
      ]
     },
     "execution_count": 106,
     "metadata": {},
     "output_type": "execute_result"
    }
   ],
   "source": [
    "# Create the names for the bins\n",
    "group_names = ['<10', '10-14', '15-19', '20-24', '25-29', '30-34', '35-39', '40+']\n",
    "age_df = pd.DataFrame(purchase_data)\n",
    "\n",
    "# Cut age and place the scores into bins\n",
    "age_df[\"Age Range\"] = pd.cut(age_df[\"Age\"], 8, labels=group_names)\n",
    "               \n",
    "age_groups = purchase_data.groupby(['Age Range'])\n",
    "\n",
    "#Purchase Count\n",
    "purchase_count = age_groups.count()[\"Price\"]\n",
    "\n",
    "#Average Purchase Price\n",
    "avg_pur_count = age_groups.mean()[\"Price\"]\n",
    "\n",
    "#Total Purchase Value\n",
    "total_pur_value = age_groups.sum()[\"Price\"]\n",
    "\n",
    "#Normalized Totals\n",
    "norm_total = total_pur_value/purchase_count\n",
    "\n",
    "pur_analysis = pd.DataFrame({\n",
    "    \n",
    "    \"Purchase count\": purchase_count,\n",
    "    'Average Purchase Price': avg_pur_count,\n",
    "    'Total Purchase value': total_pur_value,\n",
    "    'Normalised Totals': norm_total\n",
    "})\n",
    "\n",
    "#printing data\n",
    "pur_analysis.style.format({\"Average Purchase Price\": \"${:.2f}\", \"Total Purchase Value\":\"${:.2f}\", \"Normalised Totals\":\"${:.2f}\"})"
   ]
  },
  {
   "cell_type": "code",
   "execution_count": 108,
   "id": "d8de5882-e0f2-4768-8786-95e86aed4c14",
   "metadata": {},
   "outputs": [
    {
     "data": {
      "text/html": [
       "<style type=\"text/css\">\n",
       "</style>\n",
       "<table id=\"T_9e8a9_\">\n",
       "  <thead>\n",
       "    <tr>\n",
       "      <th class=\"blank level0\" >&nbsp;</th>\n",
       "      <th class=\"col_heading level0 col0\" >Purchase Count</th>\n",
       "      <th class=\"col_heading level0 col1\" >Average Purchase Price</th>\n",
       "      <th class=\"col_heading level0 col2\" >Total Purchase Value</th>\n",
       "    </tr>\n",
       "    <tr>\n",
       "      <th class=\"index_name level0\" >SN</th>\n",
       "      <th class=\"blank col0\" >&nbsp;</th>\n",
       "      <th class=\"blank col1\" >&nbsp;</th>\n",
       "      <th class=\"blank col2\" >&nbsp;</th>\n",
       "    </tr>\n",
       "  </thead>\n",
       "  <tbody>\n",
       "    <tr>\n",
       "      <th id=\"T_9e8a9_level0_row0\" class=\"row_heading level0 row0\" >Lisosia93</th>\n",
       "      <td id=\"T_9e8a9_row0_col0\" class=\"data row0 col0\" >5</td>\n",
       "      <td id=\"T_9e8a9_row0_col1\" class=\"data row0 col1\" >$3.79</td>\n",
       "      <td id=\"T_9e8a9_row0_col2\" class=\"data row0 col2\" >$18.96</td>\n",
       "    </tr>\n",
       "    <tr>\n",
       "      <th id=\"T_9e8a9_level0_row1\" class=\"row_heading level0 row1\" >Idastidru52</th>\n",
       "      <td id=\"T_9e8a9_row1_col0\" class=\"data row1 col0\" >4</td>\n",
       "      <td id=\"T_9e8a9_row1_col1\" class=\"data row1 col1\" >$3.86</td>\n",
       "      <td id=\"T_9e8a9_row1_col2\" class=\"data row1 col2\" >$15.45</td>\n",
       "    </tr>\n",
       "    <tr>\n",
       "      <th id=\"T_9e8a9_level0_row2\" class=\"row_heading level0 row2\" >Chamjask73</th>\n",
       "      <td id=\"T_9e8a9_row2_col0\" class=\"data row2 col0\" >3</td>\n",
       "      <td id=\"T_9e8a9_row2_col1\" class=\"data row2 col1\" >$4.61</td>\n",
       "      <td id=\"T_9e8a9_row2_col2\" class=\"data row2 col2\" >$13.83</td>\n",
       "    </tr>\n",
       "    <tr>\n",
       "      <th id=\"T_9e8a9_level0_row3\" class=\"row_heading level0 row3\" >Iral74</th>\n",
       "      <td id=\"T_9e8a9_row3_col0\" class=\"data row3 col0\" >4</td>\n",
       "      <td id=\"T_9e8a9_row3_col1\" class=\"data row3 col1\" >$3.41</td>\n",
       "      <td id=\"T_9e8a9_row3_col2\" class=\"data row3 col2\" >$13.62</td>\n",
       "    </tr>\n",
       "    <tr>\n",
       "      <th id=\"T_9e8a9_level0_row4\" class=\"row_heading level0 row4\" >Iskadarya95</th>\n",
       "      <td id=\"T_9e8a9_row4_col0\" class=\"data row4 col0\" >3</td>\n",
       "      <td id=\"T_9e8a9_row4_col1\" class=\"data row4 col1\" >$4.37</td>\n",
       "      <td id=\"T_9e8a9_row4_col2\" class=\"data row4 col2\" >$13.10</td>\n",
       "    </tr>\n",
       "  </tbody>\n",
       "</table>\n"
      ],
      "text/plain": [
       "<pandas.io.formats.style.Styler at 0x220f4714250>"
      ]
     },
     "execution_count": 108,
     "metadata": {},
     "output_type": "execute_result"
    }
   ],
   "source": [
    "#Top Spenders\n",
    "#SN\n",
    "SN_groups = purchase_data.groupby(['SN'])\n",
    "\n",
    "#Purchase Count\n",
    "purchase_count = SN_groups.count()[\"Price\"]\n",
    "\n",
    "#Average Purchase Price\n",
    "avg_pur_count = SN_groups.mean()[\"Price\"]\n",
    "\n",
    "#Total Purchase Value\n",
    "total_pur_value = SN_groups.sum()[\"Price\"]\n",
    "\n",
    "pur_analysis = pd.DataFrame({\n",
    "    \n",
    "    \"Purchase Count\": purchase_count,\n",
    "    'Average Purchase Price': avg_pur_count,\n",
    "    'Total Purchase Value': total_pur_value,\n",
    "})\n",
    "\n",
    "#Sort in descending order to get top 5 spenders\n",
    "pur_analysis_sorted = pur_analysis.sort_values('Total Purchase Value', ascending=False).head()\n",
    "pur_analysis_sorted.style.format({\"Average Purchase Price\": \"${:.2f}\",\"Purchase Count\": \"${:.2f}\", \"Total Purchase Value\": \"${:.2f}\"})\n",
    "pur_analysis_sorted.style.format({\"Average Purchase Price\": \"${:.2f}\", \"Total Purchase Value\": \"${:.2f}\"})"
   ]
  },
  {
   "cell_type": "code",
   "execution_count": 110,
   "id": "e31e8480-f9da-4280-bd1c-6469b2d7e78f",
   "metadata": {},
   "outputs": [
    {
     "data": {
      "text/html": [
       "<style type=\"text/css\">\n",
       "</style>\n",
       "<table id=\"T_431a5_\">\n",
       "  <thead>\n",
       "    <tr>\n",
       "      <th class=\"blank\" >&nbsp;</th>\n",
       "      <th class=\"blank level0\" >&nbsp;</th>\n",
       "      <th class=\"col_heading level0 col0\" >Purchase Count</th>\n",
       "      <th class=\"col_heading level0 col1\" >Item Price</th>\n",
       "      <th class=\"col_heading level0 col2\" >Total Purchase Value</th>\n",
       "    </tr>\n",
       "    <tr>\n",
       "      <th class=\"index_name level0\" >Item ID</th>\n",
       "      <th class=\"index_name level1\" >Item Name</th>\n",
       "      <th class=\"blank col0\" >&nbsp;</th>\n",
       "      <th class=\"blank col1\" >&nbsp;</th>\n",
       "      <th class=\"blank col2\" >&nbsp;</th>\n",
       "    </tr>\n",
       "  </thead>\n",
       "  <tbody>\n",
       "    <tr>\n",
       "      <th id=\"T_431a5_level0_row0\" class=\"row_heading level0 row0\" >92</th>\n",
       "      <th id=\"T_431a5_level1_row0\" class=\"row_heading level1 row0\" >Final Critic</th>\n",
       "      <td id=\"T_431a5_row0_col0\" class=\"data row0 col0\" >13</td>\n",
       "      <td id=\"T_431a5_row0_col1\" class=\"data row0 col1\" >$4.61</td>\n",
       "      <td id=\"T_431a5_row0_col2\" class=\"data row0 col2\" >$59.99</td>\n",
       "    </tr>\n",
       "    <tr>\n",
       "      <th id=\"T_431a5_level0_row1\" class=\"row_heading level0 row1\" >178</th>\n",
       "      <th id=\"T_431a5_level1_row1\" class=\"row_heading level1 row1\" >Oathbreaker, Last Hope of the Breaking Storm</th>\n",
       "      <td id=\"T_431a5_row1_col0\" class=\"data row1 col0\" >12</td>\n",
       "      <td id=\"T_431a5_row1_col1\" class=\"data row1 col1\" >$4.23</td>\n",
       "      <td id=\"T_431a5_row1_col2\" class=\"data row1 col2\" >$50.76</td>\n",
       "    </tr>\n",
       "    <tr>\n",
       "      <th id=\"T_431a5_level0_row2\" class=\"row_heading level0 row2\" >108</th>\n",
       "      <th id=\"T_431a5_level1_row2\" class=\"row_heading level1 row2\" >Extraction, Quickblade Of Trembling Hands</th>\n",
       "      <td id=\"T_431a5_row2_col0\" class=\"data row2 col0\" >9</td>\n",
       "      <td id=\"T_431a5_row2_col1\" class=\"data row2 col1\" >$3.53</td>\n",
       "      <td id=\"T_431a5_row2_col2\" class=\"data row2 col2\" >$31.77</td>\n",
       "    </tr>\n",
       "    <tr>\n",
       "      <th id=\"T_431a5_level0_row3\" class=\"row_heading level0 row3\" >82</th>\n",
       "      <th id=\"T_431a5_level1_row3\" class=\"row_heading level1 row3\" >Nirvana</th>\n",
       "      <td id=\"T_431a5_row3_col0\" class=\"data row3 col0\" >9</td>\n",
       "      <td id=\"T_431a5_row3_col1\" class=\"data row3 col1\" >$4.90</td>\n",
       "      <td id=\"T_431a5_row3_col2\" class=\"data row3 col2\" >$44.10</td>\n",
       "    </tr>\n",
       "    <tr>\n",
       "      <th id=\"T_431a5_level0_row4\" class=\"row_heading level0 row4\" >145</th>\n",
       "      <th id=\"T_431a5_level1_row4\" class=\"row_heading level1 row4\" >Fiery Glass Crusader</th>\n",
       "      <td id=\"T_431a5_row4_col0\" class=\"data row4 col0\" >9</td>\n",
       "      <td id=\"T_431a5_row4_col1\" class=\"data row4 col1\" >$4.58</td>\n",
       "      <td id=\"T_431a5_row4_col2\" class=\"data row4 col2\" >$41.22</td>\n",
       "    </tr>\n",
       "  </tbody>\n",
       "</table>\n"
      ],
      "text/plain": [
       "<pandas.io.formats.style.Styler at 0x220f5542220>"
      ]
     },
     "execution_count": 110,
     "metadata": {},
     "output_type": "execute_result"
    }
   ],
   "source": [
    "#popular items\n",
    "merge1 = purchase_data.groupby(\"Item Name\").sum().reset_index()\n",
    "merge2 = purchase_data.groupby(\"Item ID\").sum().reset_index()\n",
    "merge3 = purchase_data.groupby(\"Item Name\").count().reset_index()\n",
    "\n",
    "#merge dataframes\n",
    "merge_df1 = pd.merge(merge1, merge2, on=\"Price\")\n",
    "merge_df2 = pd.merge(merge3, merge_df1, on=\"Item Name\")\n",
    "\n",
    "#start to create final dataframe by manipulating data\n",
    "merge_df2[\"Gender\"] = (merge_df2[\"Price_y\"]/merge_df2[\"Item ID\"]).round(2)\n",
    "\n",
    "merge_df2_renamed = merge_df2.rename(columns={\"Age\": \"Purchase Count\", \"Gender\": \"Item Price\", \"Item ID\": \"null\", \"Price_y\": \"Total Purchase Value\", \"Item ID_y\": \"Item ID\"})\n",
    "\n",
    "#Including columns needed for the dataframe\n",
    "clean_df = merge_df2_renamed[[\"Item ID\", \"Item Name\", \"Purchase Count\", \"Item Price\", \"Total Purchase Value\"]]\n",
    "\n",
    "df2 = clean_df.set_index(['Item ID','Item Name'])\n",
    "popular_items = df2.sort_values('Purchase Count', ascending=False).head()\n",
    "popular_items.style.format({\"Item Price\": \"${:.2f}\", \"Total Purchase Value\": \"${:.2f}\"})"
   ]
  },
  {
   "cell_type": "code",
   "execution_count": 111,
   "id": "6cdf5d04-5e05-462a-ac92-5432b0c28487",
   "metadata": {},
   "outputs": [
    {
     "data": {
      "text/html": [
       "<style type=\"text/css\">\n",
       "</style>\n",
       "<table id=\"T_86082_\">\n",
       "  <thead>\n",
       "    <tr>\n",
       "      <th class=\"blank\" >&nbsp;</th>\n",
       "      <th class=\"blank level0\" >&nbsp;</th>\n",
       "      <th class=\"col_heading level0 col0\" >Purchase Count</th>\n",
       "      <th class=\"col_heading level0 col1\" >Item Price</th>\n",
       "      <th class=\"col_heading level0 col2\" >Total Purchase Value</th>\n",
       "    </tr>\n",
       "    <tr>\n",
       "      <th class=\"index_name level0\" >Item ID</th>\n",
       "      <th class=\"index_name level1\" >Item Name</th>\n",
       "      <th class=\"blank col0\" >&nbsp;</th>\n",
       "      <th class=\"blank col1\" >&nbsp;</th>\n",
       "      <th class=\"blank col2\" >&nbsp;</th>\n",
       "    </tr>\n",
       "  </thead>\n",
       "  <tbody>\n",
       "    <tr>\n",
       "      <th id=\"T_86082_level0_row0\" class=\"row_heading level0 row0\" >92</th>\n",
       "      <th id=\"T_86082_level1_row0\" class=\"row_heading level1 row0\" >Final Critic</th>\n",
       "      <td id=\"T_86082_row0_col0\" class=\"data row0 col0\" >13</td>\n",
       "      <td id=\"T_86082_row0_col1\" class=\"data row0 col1\" >$4.61</td>\n",
       "      <td id=\"T_86082_row0_col2\" class=\"data row0 col2\" >$59.99</td>\n",
       "    </tr>\n",
       "    <tr>\n",
       "      <th id=\"T_86082_level0_row1\" class=\"row_heading level0 row1\" >178</th>\n",
       "      <th id=\"T_86082_level1_row1\" class=\"row_heading level1 row1\" >Oathbreaker, Last Hope of the Breaking Storm</th>\n",
       "      <td id=\"T_86082_row1_col0\" class=\"data row1 col0\" >12</td>\n",
       "      <td id=\"T_86082_row1_col1\" class=\"data row1 col1\" >$4.23</td>\n",
       "      <td id=\"T_86082_row1_col2\" class=\"data row1 col2\" >$50.76</td>\n",
       "    </tr>\n",
       "    <tr>\n",
       "      <th id=\"T_86082_level0_row2\" class=\"row_heading level0 row2\" >82</th>\n",
       "      <th id=\"T_86082_level1_row2\" class=\"row_heading level1 row2\" >Nirvana</th>\n",
       "      <td id=\"T_86082_row2_col0\" class=\"data row2 col0\" >9</td>\n",
       "      <td id=\"T_86082_row2_col1\" class=\"data row2 col1\" >$4.90</td>\n",
       "      <td id=\"T_86082_row2_col2\" class=\"data row2 col2\" >$44.10</td>\n",
       "    </tr>\n",
       "    <tr>\n",
       "      <th id=\"T_86082_level0_row3\" class=\"row_heading level0 row3\" >145</th>\n",
       "      <th id=\"T_86082_level1_row3\" class=\"row_heading level1 row3\" >Fiery Glass Crusader</th>\n",
       "      <td id=\"T_86082_row3_col0\" class=\"data row3 col0\" >9</td>\n",
       "      <td id=\"T_86082_row3_col1\" class=\"data row3 col1\" >$4.58</td>\n",
       "      <td id=\"T_86082_row3_col2\" class=\"data row3 col2\" >$41.22</td>\n",
       "    </tr>\n",
       "    <tr>\n",
       "      <th id=\"T_86082_level0_row4\" class=\"row_heading level0 row4\" >103</th>\n",
       "      <th id=\"T_86082_level1_row4\" class=\"row_heading level1 row4\" >Singed Scalpel</th>\n",
       "      <td id=\"T_86082_row4_col0\" class=\"data row4 col0\" >8</td>\n",
       "      <td id=\"T_86082_row4_col1\" class=\"data row4 col1\" >$4.35</td>\n",
       "      <td id=\"T_86082_row4_col2\" class=\"data row4 col2\" >$34.80</td>\n",
       "    </tr>\n",
       "  </tbody>\n",
       "</table>\n"
      ],
      "text/plain": [
       "<pandas.io.formats.style.Styler at 0x220f5542670>"
      ]
     },
     "execution_count": 111,
     "metadata": {},
     "output_type": "execute_result"
    }
   ],
   "source": [
    "#Most Profitable items\n",
    "profit_items = df2.sort_values('Total Purchase Value', ascending=False).head()\n",
    "profit_items.style.format({\"Item Price\": \"${:.2f}\", \"Total Purchase Value\": \"${:.2f}\"})"
   ]
  },
  {
   "cell_type": "code",
   "execution_count": null,
   "id": "48a9f937-6043-41e5-b52c-90841b772a1f",
   "metadata": {},
   "outputs": [],
   "source": []
  }
 ],
 "metadata": {
  "kernelspec": {
   "display_name": "Python 3 (ipykernel)",
   "language": "python",
   "name": "python3"
  },
  "language_info": {
   "codemirror_mode": {
    "name": "ipython",
    "version": 3
   },
   "file_extension": ".py",
   "mimetype": "text/x-python",
   "name": "python",
   "nbconvert_exporter": "python",
   "pygments_lexer": "ipython3",
   "version": "3.9.7"
  }
 },
 "nbformat": 4,
 "nbformat_minor": 5
}
